{
 "cells": [
  {
   "cell_type": "code",
   "execution_count": 50,
   "metadata": {},
   "outputs": [
    {
     "name": "stdout",
     "output_type": "stream",
     "text": [
      "Requirement already satisfied: sodapy in c:\\programdata\\anaconda3\\lib\\site-packages (1.5.5)\n",
      "Requirement already satisfied: future>=0.17.1 in c:\\programdata\\anaconda3\\lib\\site-packages (from sodapy) (0.17.1)\n",
      "Requirement already satisfied: requests>=2.20.0 in c:\\programdata\\anaconda3\\lib\\site-packages (from sodapy) (2.22.0)\n",
      "Requirement already satisfied: certifi>=2017.4.17 in c:\\programdata\\anaconda3\\lib\\site-packages (from requests>=2.20.0->sodapy) (2019.6.16)\n",
      "Requirement already satisfied: urllib3!=1.25.0,!=1.25.1,<1.26,>=1.21.1 in c:\\programdata\\anaconda3\\lib\\site-packages (from requests>=2.20.0->sodapy) (1.24.2)\n",
      "Requirement already satisfied: chardet<3.1.0,>=3.0.2 in c:\\programdata\\anaconda3\\lib\\site-packages (from requests>=2.20.0->sodapy) (3.0.4)\n",
      "Requirement already satisfied: idna<2.9,>=2.5 in c:\\programdata\\anaconda3\\lib\\site-packages (from requests>=2.20.0->sodapy) (2.8)\n",
      "Note: you may need to restart the kernel to use updated packages.\n"
     ]
    }
   ],
   "source": [
    "pip install sodapy"
   ]
  },
  {
   "cell_type": "code",
   "execution_count": 39,
   "metadata": {},
   "outputs": [],
   "source": [
    "import pandas as pd\n",
    "from sodapy import Socrata"
   ]
  },
  {
   "cell_type": "code",
   "execution_count": 40,
   "metadata": {},
   "outputs": [
    {
     "name": "stderr",
     "output_type": "stream",
     "text": [
      "WARNING:root:Requests made without an app_token will be subject to strict throttling limits.\n"
     ]
    }
   ],
   "source": [
    "client = Socrata(\"data.sfgov.org\", None) # Anbindungsobjekt für die API, \"None\" bedeutet eine Verbindung ohne Zugangsdaten."
   ]
  },
  {
   "cell_type": "code",
   "execution_count": 41,
   "metadata": {},
   "outputs": [],
   "source": [
    "results = client.get(\"qzz6-2jup\", limit=423448) # Endpunkt der API: Die Daten laufen über die Schnittstelle qzz6-2jup. \"get\" liefert die Daten, 423448 ist die Größe des Datensatzes."
   ]
  },
  {
   "cell_type": "code",
   "execution_count": 42,
   "metadata": {},
   "outputs": [],
   "source": [
    "results_df = pd.DataFrame.from_records(results) # Überführung des Datensatzes in ein Panda-Objekt"
   ]
  },
  {
   "cell_type": "code",
   "execution_count": 43,
   "metadata": {},
   "outputs": [],
   "source": [
    "counter0_9 = 0 # Festlegung aller Zählervariablen nach Alterskohorte in Staffelung\n",
    "counter10_19 = 0\n",
    "counter20_24 = 0\n",
    "counter25_34 = 0\n",
    "counter35_44 = 0\n",
    "counter45_54 = 0\n",
    "counter55_59 = 0\n",
    "counter60_64 = 0\n",
    "counter65_74 = 0\n",
    "counter75_over = 0\n",
    "overallcounter = 0 # Zähler, der die Anzahl der Schleifendurchläufe kontrolliert. Hinterher sollten overallcounter und check_sum gleiche Werte aufweisen. \n",
    "noAgeGiven = 0\n",
    "check_sum = 0 # Kontrollzähler, um hinterher die Probe machen zu können."
   ]
  },
  {
   "cell_type": "code",
   "execution_count": 44,
   "metadata": {},
   "outputs": [],
   "source": [
    "for result in results_df.age_range: # Abfrage über jedes Objekt des Datensatzes für das Attribut AGE_RANGE\n",
    "    if(result == '0 to 9 years'): # Sortierung des Rückgabewertes nach Alterskohorte\n",
    "        counter0_9 = counter0_9 + 1 # Bei einem Treffer wird die entsprechende Zählervariable um einen Wert erhöht. \n",
    "    elif(result == '10 to 19 years'):\n",
    "        counter10_19 = counter10_19 + 1\n",
    "    elif(result == '20 to 24 years'):\n",
    "        counter20_24 = counter20_24 + 1\n",
    "    elif(result == '25 to 34 years'):\n",
    "        counter25_34 = counter25_34 + 1\n",
    "    elif(result == '35 to 44 years'):\n",
    "        counter35_44 = counter35_44 + 1\n",
    "    elif(result == '45 to 54 years'):\n",
    "        counter45_54 = counter45_54 + 1\n",
    "    elif(result == '55 to 59 years'):\n",
    "        counter55_59 = counter55_59 + 1\n",
    "    elif(result == '60 to 64 years'):\n",
    "        counter60_64 = counter60_64 + 1\n",
    "    elif(result == '65 to 74 years'):\n",
    "        counter65_74 = counter65_74 + 1\n",
    "    elif(result == '75 years and over'):\n",
    "        counter75_over = counter75_over + 1\n",
    "    else:\n",
    "        noAgeGiven = noAgeGiven + 1\n",
    "          \n",
    "    overallcounter = overallcounter + 1 # Für jeden Schleifendurchlauf wird der Zähler um einen Wert erhäht\n",
    "    "
   ]
  },
  {
   "cell_type": "code",
   "execution_count": 45,
   "metadata": {},
   "outputs": [
    {
     "name": "stdout",
     "output_type": "stream",
     "text": [
      "Nutzer im Alter von 0 bis 9 Jahren:\n",
      "38242\n",
      "\n",
      "Nutzer im Alter von 10 bis 19 Jahren:\n",
      "58944\n",
      "\n",
      "Nutzer im Alter von 20 bis 24 Jahren:\n",
      "29761\n",
      "\n",
      "Nutzer im Alter von 25 bis 34 Jahren:\n",
      "91083\n",
      "\n",
      "Nutzer im Alter von 35 bis 44 Jahren:\n",
      "67390\n",
      "\n",
      "Nutzer im Alter von 45 bis 54 Jahren:\n",
      "52492\n",
      "\n",
      "Nutzer im Alter von 55 bis 59 Jahren:\n",
      "21230\n",
      "\n",
      "Nutzer im Alter von 60 bis 64 Jahren:\n",
      "19800\n",
      "\n",
      "Nutzer im Alter von 65 bis 74 Jahren:\n",
      "30141\n",
      "\n",
      "Nutzer im Alter von ueber 75 Jahren:\n",
      "14150\n",
      "\n",
      "Nutzer, die kein Alter angegeben haben:\n",
      "215\n",
      "\n",
      "Insgesamt betrachtete Datensätze:\n",
      "423448\n",
      "\n",
      "Summe aller betrachteten Datensätze:\n",
      "423448\n"
     ]
    }
   ],
   "source": [
    "print('Nutzer im Alter von 0 bis 9 Jahren:') # Ausgabe der Ergebnisse, Kontrolle am Ende der Ausgabe\n",
    "print(counter0_9)\n",
    "print()\n",
    "print('Nutzer im Alter von 10 bis 19 Jahren:')\n",
    "print(counter10_19)\n",
    "print()\n",
    "print('Nutzer im Alter von 20 bis 24 Jahren:')\n",
    "print(counter20_24)\n",
    "print()\n",
    "print('Nutzer im Alter von 25 bis 34 Jahren:')\n",
    "print(counter25_34)\n",
    "print()\n",
    "print('Nutzer im Alter von 35 bis 44 Jahren:')\n",
    "print(counter35_44)\n",
    "print()\n",
    "print('Nutzer im Alter von 45 bis 54 Jahren:')\n",
    "print(counter45_54)\n",
    "print()\n",
    "print('Nutzer im Alter von 55 bis 59 Jahren:')\n",
    "print(counter55_59)\n",
    "print()\n",
    "print('Nutzer im Alter von 60 bis 64 Jahren:')\n",
    "print(counter60_64)\n",
    "print()\n",
    "print('Nutzer im Alter von 65 bis 74 Jahren:')\n",
    "print(counter65_74)\n",
    "print()\n",
    "print('Nutzer im Alter von ueber 75 Jahren:')\n",
    "print(counter75_over)\n",
    "print()\n",
    "print('Nutzer, die kein Alter angegeben haben:')\n",
    "print(noAgeGiven)\n",
    "print()\n",
    "print ('Insgesamt betrachtete Datensätze:')\n",
    "print (overallcounter)\n",
    "print()\n",
    "check_sum = counter0_9 + counter10_19 + counter20_24 + counter25_34 + counter35_44 + counter45_54 + counter55_59 + counter60_64 + counter65_74 + counter75_over + noAgeGiven\n",
    "print(\"Summe aller betrachteten Datensätze:\")\n",
    "print(check_sum)"
   ]
  },
  {
   "cell_type": "code",
   "execution_count": 46,
   "metadata": {},
   "outputs": [],
   "source": [
    "list1 = [counter0_9, counter10_19, counter20_24, counter25_34, counter35_44, counter45_54, counter55_59, counter60_64, counter65_74, counter75_over]\n",
    "list2 = []\n",
    "\n",
    "list0 = []\n",
    "list50 = []\n",
    "list100 = []\n",
    "list300 = []\n",
    "list500 = []\n",
    "list1000 = []\n",
    "list2500 = []\n",
    "list5000 = []\n",
    "list5000over = []"
   ]
  },
  {
   "cell_type": "code",
   "execution_count": 47,
   "metadata": {},
   "outputs": [
    {
     "name": "stdout",
     "output_type": "stream",
     "text": [
      "Höchste Anzahl an Benutzern einer Kohorte: \n",
      "91083\n",
      "Dies entspricht der Altersgruppe von 25 bis 34 Jahren.\n"
     ]
    }
   ],
   "source": [
    "print(\"Höchste Anzahl an Benutzern einer Kohorte: \") \n",
    "print(max(list1))\n",
    "print(\"Dies entspricht der Altersgruppe von 25 bis 34 Jahren.\")"
   ]
  },
  {
   "cell_type": "code",
   "execution_count": 48,
   "metadata": {},
   "outputs": [],
   "source": [
    "for checkouts in results_df.total_checkouts: # Abfrage über jedes Element des Datensatzes und Angabe des Wertes in der Spalte \"Total Checkouts\"\n",
    "    list2.append(checkouts) # \"append\" bedeutet, diesen Wert an die Liste anzuhängen.\n"
   ]
  },
  {
   "cell_type": "code",
   "execution_count": 49,
   "metadata": {},
   "outputs": [
    {
     "name": "stdout",
     "output_type": "stream",
     "text": [
      "Die Höchstzahl aller Checkouts beträgt:\n",
      "9990\n",
      "Von Nutzern insgesamt:\n"
     ]
    },
    {
     "data": {
      "text/plain": [
       "423448"
      ]
     },
     "execution_count": 49,
     "metadata": {},
     "output_type": "execute_result"
    }
   ],
   "source": [
    "print(\"Die Höchstzahl aller Checkouts beträgt:\")\n",
    "print(max(list2)) # Anzeige des höchsten Einzelwertes der Liste, die 423448 Elemente enthalten sollte, s.o.\n",
    "print(\"Von Nutzern insgesamt:\")\n",
    "len(list2) # Anzeige der Anzahl der Elemente dieser Liste"
   ]
  }
 ],
 "metadata": {
  "kernelspec": {
   "display_name": "Python 3",
   "language": "python",
   "name": "python3"
  },
  "language_info": {
   "codemirror_mode": {
    "name": "ipython",
    "version": 3
   },
   "file_extension": ".py",
   "mimetype": "text/x-python",
   "name": "python",
   "nbconvert_exporter": "python",
   "pygments_lexer": "ipython3",
   "version": "3.7.3"
  }
 },
 "nbformat": 4,
 "nbformat_minor": 4
}

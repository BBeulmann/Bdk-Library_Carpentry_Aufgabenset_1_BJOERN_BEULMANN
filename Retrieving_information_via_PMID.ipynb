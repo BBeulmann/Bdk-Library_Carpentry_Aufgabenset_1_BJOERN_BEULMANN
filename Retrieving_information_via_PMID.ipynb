{
 "cells": [
  {
   "cell_type": "code",
   "execution_count": 1,
   "metadata": {},
   "outputs": [],
   "source": [
    "import urllib.request\n",
    "import pandas as pd\n",
    "import json"
   ]
  },
  {
   "cell_type": "code",
   "execution_count": 2,
   "metadata": {},
   "outputs": [],
   "source": [
    "base_url = \"https://eutils.ncbi.nlm.nih.gov/entrez/eutils/esummary.fcgi?db=pubmed&retmode=json&id=\"\n",
    "PMID = \"27708327\""
   ]
  },
  {
   "cell_type": "code",
   "execution_count": 3,
   "metadata": {},
   "outputs": [],
   "source": [
    "full_url = base_url + PMID"
   ]
  },
  {
   "cell_type": "code",
   "execution_count": 4,
   "metadata": {},
   "outputs": [
    {
     "name": "stdout",
     "output_type": "stream",
     "text": [
      "https://eutils.ncbi.nlm.nih.gov/entrez/eutils/esummary.fcgi?db=pubmed&retmode=json&id=27708327\n"
     ]
    }
   ],
   "source": [
    "print(full_url)"
   ]
  },
  {
   "cell_type": "code",
   "execution_count": 5,
   "metadata": {},
   "outputs": [],
   "source": [
    "PMID_json_data = urllib.request.urlopen(full_url).read()"
   ]
  },
  {
   "cell_type": "code",
   "execution_count": 6,
   "metadata": {},
   "outputs": [
    {
     "name": "stdout",
     "output_type": "stream",
     "text": [
      "b'{\\n    \"header\": {\\n        \"type\": \"esummary\",\\n        \"version\": \"0.3\"\\n    },\\n    \"result\": {\\n        \"uids\": [\\n            \"27708327\"\\n        ],\\n        \"27708327\": {\\n            \"uid\": \"27708327\",\\n            \"pubdate\": \"2016 Oct 6\",\\n            \"epubdate\": \"\",\\n            \"source\": \"Nature\",\\n            \"authors\": [\\n                {\\n                    \"name\": \"Perkel J\",\\n                    \"authtype\": \"Author\",\\n                    \"clusterid\": \"\"\\n                }\\n            ],\\n            \"lastauthor\": \"Perkel J\",\\n            \"title\": \"Democratic databases: science on GitHub.\",\\n            \"sorttitle\": \"democratic databases science on github\",\\n            \"volume\": \"538\",\\n            \"issue\": \"7623\",\\n            \"pages\": \"127-128\",\\n            \"lang\": [\\n                \"eng\"\\n            ],\\n            \"nlmuniqueid\": \"0410462\",\\n            \"issn\": \"0028-0836\",\\n            \"essn\": \"1476-4687\",\\n            \"pubtype\": [\\n                \"Journal Article\"\\n            ],\\n            \"recordstatus\": \"PubMed - indexed for MEDLINE\",\\n            \"pubstatus\": \"4\",\\n            \"articleids\": [\\n                {\\n                    \"idtype\": \"pubmed\",\\n                    \"idtypen\": 1,\\n                    \"value\": \"27708327\"\\n                },\\n                {\\n                    \"idtype\": \"pii\",\\n                    \"idtypen\": 4,\\n                    \"value\": \"538127a\"\\n                },\\n                {\\n                    \"idtype\": \"doi\",\\n                    \"idtypen\": 3,\\n                    \"value\": \"10.1038/538127a\"\\n                },\\n                {\\n                    \"idtype\": \"rid\",\\n                    \"idtypen\": 8,\\n                    \"value\": \"27708327\"\\n                },\\n                {\\n                    \"idtype\": \"eid\",\\n                    \"idtypen\": 8,\\n                    \"value\": \"27708327\"\\n                }\\n            ],\\n            \"history\": [\\n                {\\n                    \"pubstatus\": \"entrez\",\\n                    \"date\": \"2016/10/07 06:00\"\\n                },\\n                {\\n                    \"pubstatus\": \"pubmed\",\\n                    \"date\": \"2016/10/07 06:00\"\\n                },\\n                {\\n                    \"pubstatus\": \"medline\",\\n                    \"date\": \"2016/11/03 06:00\"\\n                }\\n            ],\\n            \"references\": [\\n                {\\n                    \"refsource\": \"Nature. 2016 Oct 31;539(7627):126\",\\n                    \"reftype\": \"Erratum in\",\\n                    \"pmid\": 27808210,\\n                    \"note\": \"\"\\n                }\\n            ],\\n            \"attributes\": [\\n            ],\\n            \"pmcrefcount\": 5,\\n            \"fulljournalname\": \"Nature\",\\n            \"elocationid\": \"doi: 10.1038/538127a\",\\n            \"doctype\": \"citation\",\\n            \"srccontriblist\": [\\n            ],\\n            \"booktitle\": \"\",\\n            \"medium\": \"\",\\n            \"edition\": \"\",\\n            \"publisherlocation\": \"\",\\n            \"publishername\": \"\",\\n            \"srcdate\": \"\",\\n            \"reportnumber\": \"\",\\n            \"availablefromurl\": \"\",\\n            \"locationlabel\": \"\",\\n            \"doccontriblist\": [\\n            ],\\n            \"docdate\": \"\",\\n            \"bookname\": \"\",\\n            \"chapter\": \"\",\\n            \"sortpubdate\": \"2016/10/06 00:00\",\\n            \"sortfirstauthor\": \"Perkel J\",\\n            \"vernaculartitle\": \"\"\\n        }\\n    }\\n}\\n\\n'\n"
     ]
    }
   ],
   "source": [
    "print(PMID_json_data)"
   ]
  },
  {
   "cell_type": "code",
   "execution_count": 7,
   "metadata": {},
   "outputs": [],
   "source": [
    "PMID_data = json.loads(PMID_json_data)"
   ]
  },
  {
   "cell_type": "code",
   "execution_count": 8,
   "metadata": {},
   "outputs": [
    {
     "data": {
      "text/plain": [
       "dict"
      ]
     },
     "execution_count": 8,
     "metadata": {},
     "output_type": "execute_result"
    }
   ],
   "source": [
    "type(PMID_data)"
   ]
  },
  {
   "cell_type": "code",
   "execution_count": 9,
   "metadata": {},
   "outputs": [
    {
     "data": {
      "text/plain": [
       "dict_keys(['header', 'result'])"
      ]
     },
     "execution_count": 9,
     "metadata": {},
     "output_type": "execute_result"
    }
   ],
   "source": [
    "PMID_data.keys()"
   ]
  },
  {
   "cell_type": "code",
   "execution_count": 10,
   "metadata": {},
   "outputs": [
    {
     "data": {
      "text/plain": [
       "{'type': 'esummary', 'version': '0.3'}"
      ]
     },
     "execution_count": 10,
     "metadata": {},
     "output_type": "execute_result"
    }
   ],
   "source": [
    "PMID_data[\"header\"]"
   ]
  },
  {
   "cell_type": "code",
   "execution_count": 11,
   "metadata": {},
   "outputs": [
    {
     "name": "stdout",
     "output_type": "stream",
     "text": [
      "{\n",
      "  \"header\": {\n",
      "    \"type\": \"esummary\",\n",
      "    \"version\": \"0.3\"\n",
      "  },\n",
      "  \"result\": {\n",
      "    \"uids\": [\n",
      "      \"27708327\"\n",
      "    ],\n",
      "    \"27708327\": {\n",
      "      \"uid\": \"27708327\",\n",
      "      \"pubdate\": \"2016 Oct 6\",\n",
      "      \"epubdate\": \"\",\n",
      "      \"source\": \"Nature\",\n",
      "      \"authors\": [\n",
      "        {\n",
      "          \"name\": \"Perkel J\",\n",
      "          \"authtype\": \"Author\",\n",
      "          \"clusterid\": \"\"\n",
      "        }\n",
      "      ],\n",
      "      \"lastauthor\": \"Perkel J\",\n",
      "      \"title\": \"Democratic databases: science on GitHub.\",\n",
      "      \"sorttitle\": \"democratic databases science on github\",\n",
      "      \"volume\": \"538\",\n",
      "      \"issue\": \"7623\",\n",
      "      \"pages\": \"127-128\",\n",
      "      \"lang\": [\n",
      "        \"eng\"\n",
      "      ],\n",
      "      \"nlmuniqueid\": \"0410462\",\n",
      "      \"issn\": \"0028-0836\",\n",
      "      \"essn\": \"1476-4687\",\n",
      "      \"pubtype\": [\n",
      "        \"Journal Article\"\n",
      "      ],\n",
      "      \"recordstatus\": \"PubMed - indexed for MEDLINE\",\n",
      "      \"pubstatus\": \"4\",\n",
      "      \"articleids\": [\n",
      "        {\n",
      "          \"idtype\": \"pubmed\",\n",
      "          \"idtypen\": 1,\n",
      "          \"value\": \"27708327\"\n",
      "        },\n",
      "        {\n",
      "          \"idtype\": \"pii\",\n",
      "          \"idtypen\": 4,\n",
      "          \"value\": \"538127a\"\n",
      "        },\n",
      "        {\n",
      "          \"idtype\": \"doi\",\n",
      "          \"idtypen\": 3,\n",
      "          \"value\": \"10.1038/538127a\"\n",
      "        },\n",
      "        {\n",
      "          \"idtype\": \"rid\",\n",
      "          \"idtypen\": 8,\n",
      "          \"value\": \"27708327\"\n",
      "        },\n",
      "        {\n",
      "          \"idtype\": \"eid\",\n",
      "          \"idtypen\": 8,\n",
      "          \"value\": \"27708327\"\n",
      "        }\n",
      "      ],\n",
      "      \"history\": [\n",
      "        {\n",
      "          \"pubstatus\": \"entrez\",\n",
      "          \"date\": \"2016/10/07 06:00\"\n",
      "        },\n",
      "        {\n",
      "          \"pubstatus\": \"pubmed\",\n",
      "          \"date\": \"2016/10/07 06:00\"\n",
      "        },\n",
      "        {\n",
      "          \"pubstatus\": \"medline\",\n",
      "          \"date\": \"2016/11/03 06:00\"\n",
      "        }\n",
      "      ],\n",
      "      \"references\": [\n",
      "        {\n",
      "          \"refsource\": \"Nature. 2016 Oct 31;539(7627):126\",\n",
      "          \"reftype\": \"Erratum in\",\n",
      "          \"pmid\": 27808210,\n",
      "          \"note\": \"\"\n",
      "        }\n",
      "      ],\n",
      "      \"attributes\": [],\n",
      "      \"pmcrefcount\": 5,\n",
      "      \"fulljournalname\": \"Nature\",\n",
      "      \"elocationid\": \"doi: 10.1038/538127a\",\n",
      "      \"doctype\": \"citation\",\n",
      "      \"srccontriblist\": [],\n",
      "      \"booktitle\": \"\",\n",
      "      \"medium\": \"\",\n",
      "      \"edition\": \"\",\n",
      "      \"publisherlocation\": \"\",\n",
      "      \"publishername\": \"\",\n",
      "      \"srcdate\": \"\",\n",
      "      \"reportnumber\": \"\",\n",
      "      \"availablefromurl\": \"\",\n",
      "      \"locationlabel\": \"\",\n",
      "      \"doccontriblist\": [],\n",
      "      \"docdate\": \"\",\n",
      "      \"bookname\": \"\",\n",
      "      \"chapter\": \"\",\n",
      "      \"sortpubdate\": \"2016/10/06 00:00\",\n",
      "      \"sortfirstauthor\": \"Perkel J\",\n",
      "      \"vernaculartitle\": \"\"\n",
      "    }\n",
      "  }\n",
      "}\n"
     ]
    }
   ],
   "source": [
    "print(json.dumps(PMID_data, indent = 2))"
   ]
  },
  {
   "cell_type": "code",
   "execution_count": 12,
   "metadata": {},
   "outputs": [
    {
     "data": {
      "text/plain": [
       "{'uids': ['27708327'],\n",
       " '27708327': {'uid': '27708327',\n",
       "  'pubdate': '2016 Oct 6',\n",
       "  'epubdate': '',\n",
       "  'source': 'Nature',\n",
       "  'authors': [{'name': 'Perkel J', 'authtype': 'Author', 'clusterid': ''}],\n",
       "  'lastauthor': 'Perkel J',\n",
       "  'title': 'Democratic databases: science on GitHub.',\n",
       "  'sorttitle': 'democratic databases science on github',\n",
       "  'volume': '538',\n",
       "  'issue': '7623',\n",
       "  'pages': '127-128',\n",
       "  'lang': ['eng'],\n",
       "  'nlmuniqueid': '0410462',\n",
       "  'issn': '0028-0836',\n",
       "  'essn': '1476-4687',\n",
       "  'pubtype': ['Journal Article'],\n",
       "  'recordstatus': 'PubMed - indexed for MEDLINE',\n",
       "  'pubstatus': '4',\n",
       "  'articleids': [{'idtype': 'pubmed', 'idtypen': 1, 'value': '27708327'},\n",
       "   {'idtype': 'pii', 'idtypen': 4, 'value': '538127a'},\n",
       "   {'idtype': 'doi', 'idtypen': 3, 'value': '10.1038/538127a'},\n",
       "   {'idtype': 'rid', 'idtypen': 8, 'value': '27708327'},\n",
       "   {'idtype': 'eid', 'idtypen': 8, 'value': '27708327'}],\n",
       "  'history': [{'pubstatus': 'entrez', 'date': '2016/10/07 06:00'},\n",
       "   {'pubstatus': 'pubmed', 'date': '2016/10/07 06:00'},\n",
       "   {'pubstatus': 'medline', 'date': '2016/11/03 06:00'}],\n",
       "  'references': [{'refsource': 'Nature. 2016 Oct 31;539(7627):126',\n",
       "    'reftype': 'Erratum in',\n",
       "    'pmid': 27808210,\n",
       "    'note': ''}],\n",
       "  'attributes': [],\n",
       "  'pmcrefcount': 5,\n",
       "  'fulljournalname': 'Nature',\n",
       "  'elocationid': 'doi: 10.1038/538127a',\n",
       "  'doctype': 'citation',\n",
       "  'srccontriblist': [],\n",
       "  'booktitle': '',\n",
       "  'medium': '',\n",
       "  'edition': '',\n",
       "  'publisherlocation': '',\n",
       "  'publishername': '',\n",
       "  'srcdate': '',\n",
       "  'reportnumber': '',\n",
       "  'availablefromurl': '',\n",
       "  'locationlabel': '',\n",
       "  'doccontriblist': [],\n",
       "  'docdate': '',\n",
       "  'bookname': '',\n",
       "  'chapter': '',\n",
       "  'sortpubdate': '2016/10/06 00:00',\n",
       "  'sortfirstauthor': 'Perkel J',\n",
       "  'vernaculartitle': ''}}"
      ]
     },
     "execution_count": 12,
     "metadata": {},
     "output_type": "execute_result"
    }
   ],
   "source": [
    "PMID_data[\"result\"]"
   ]
  },
  {
   "cell_type": "code",
   "execution_count": 13,
   "metadata": {},
   "outputs": [
    {
     "data": {
      "text/plain": [
       "dict_keys(['type', 'version'])"
      ]
     },
     "execution_count": 13,
     "metadata": {},
     "output_type": "execute_result"
    }
   ],
   "source": [
    "PMID_data [\"header\"].keys()"
   ]
  },
  {
   "cell_type": "code",
   "execution_count": 14,
   "metadata": {},
   "outputs": [
    {
     "data": {
      "text/plain": [
       "dict_keys(['uids', '27708327'])"
      ]
     },
     "execution_count": 14,
     "metadata": {},
     "output_type": "execute_result"
    }
   ],
   "source": [
    "PMID_data [\"result\"].keys()"
   ]
  },
  {
   "cell_type": "code",
   "execution_count": 15,
   "metadata": {},
   "outputs": [],
   "source": [
    "PMIDs = [\"31452104\",\n",
    "         \"31437182\",\n",
    "         \"31455877\",\n",
    "         \"31535994\"]"
   ]
  },
  {
   "cell_type": "code",
   "execution_count": 16,
   "metadata": {},
   "outputs": [
    {
     "name": "stdout",
     "output_type": "stream",
     "text": [
      "TITEL:            Molegro Virtual Docker for Docking.\n",
      "PUBLIKATIONSJAHR: 2019\n",
      "_______________________\n",
      "\n",
      "TITEL:            TreeCluster: Clustering biological sequences using phylogenetic trees.\n",
      "PUBLIKATIONSJAHR: 2019\n",
      "_______________________\n",
      "\n",
      "TITEL:            Principles of open source bioinstrumentation applied to the poseidon syringe pump system.\n",
      "PUBLIKATIONSJAHR: 2019 Aug 27\n",
      "_______________________\n",
      "\n",
      "TITEL:            Aggregation Signature for Small Object Tracking.\n",
      "PUBLIKATIONSJAHR: 2019 Sep 16\n",
      "_______________________\n",
      "\n"
     ]
    }
   ],
   "source": [
    "for PMID in PMIDs:\n",
    "    full_url = base_url + PMID\n",
    "    PMID_json_data = urllib.request.urlopen(full_url).read()\n",
    "    PMID_data = json.loads(PMID_json_data)\n",
    "    print(\"TITEL:            \" + PMID_data [\"result\"] [str(PMID)][\"title\"])\n",
    "    print(\"PUBLIKATIONSJAHR: \" + PMID_data [\"result\"] [str(PMID)][\"pubdate\"])\n",
    "    print(\"_______________________\")\n",
    "    print()"
   ]
  },
  {
   "cell_type": "code",
   "execution_count": 17,
   "metadata": {},
   "outputs": [
    {
     "name": "stdout",
     "output_type": "stream",
     "text": [
      "TITEL:            Molegro Virtual Docker for Docking.\n",
      "PUBLIKATIONSJAHR: 2019\n",
      "_______________________\n",
      "\n",
      "TITEL:            TreeCluster: Clustering biological sequences using phylogenetic trees.\n",
      "PUBLIKATIONSJAHR: 2019\n",
      "_______________________\n",
      "\n",
      "TITEL:            Principles of open source bioinstrumentation applied to the poseidon syringe pump system.\n",
      "PUBLIKATIONSJAHR: 2019 Aug 27\n",
      "_______________________\n",
      "\n",
      "TITEL:            Aggregation Signature for Small Object Tracking.\n",
      "PUBLIKATIONSJAHR: 2019 Sep 16\n",
      "_______________________\n",
      "\n"
     ]
    }
   ],
   "source": [
    "for PMID in PMIDs:\n",
    "    full_url = base_url + PMID\n",
    "    PMID_json_data = urllib.request.urlopen(full_url).read()\n",
    "    PMID_data = json.loads(PMID_json_data)\n",
    "    Titel = PMID_data [\"result\"] [str(PMID)][\"title\"]\n",
    "    Publikationsjahr = PMID_data [\"result\"] [str(PMID)][\"pubdate\"]\n",
    "    print(\"TITEL:            \" + f\"{Titel}\")\n",
    "    print(\"PUBLIKATIONSJAHR: \" + f\"{Publikationsjahr}\")\n",
    "    print(\"_______________________\")\n",
    "    print()"
   ]
  }
 ],
 "metadata": {
  "kernelspec": {
   "display_name": "Python 3",
   "language": "python",
   "name": "python3"
  },
  "language_info": {
   "codemirror_mode": {
    "name": "ipython",
    "version": 3
   },
   "file_extension": ".py",
   "mimetype": "text/x-python",
   "name": "python",
   "nbconvert_exporter": "python",
   "pygments_lexer": "ipython3",
   "version": "3.7.3"
  }
 },
 "nbformat": 4,
 "nbformat_minor": 2
}
